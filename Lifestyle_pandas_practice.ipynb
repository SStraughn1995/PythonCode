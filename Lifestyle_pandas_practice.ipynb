{
  "nbformat": 4,
  "nbformat_minor": 0,
  "metadata": {
    "colab": {
      "provenance": [],
      "authorship_tag": "ABX9TyM2DcpTyQxUFIDxryA/xnq0",
      "include_colab_link": true
    },
    "kernelspec": {
      "name": "python3",
      "display_name": "Python 3"
    },
    "language_info": {
      "name": "python"
    }
  },
  "cells": [
    {
      "cell_type": "markdown",
      "metadata": {
        "id": "view-in-github",
        "colab_type": "text"
      },
      "source": [
        "<a href=\"https://colab.research.google.com/github/SStraughn1995/PythonCode/blob/main/Lifestyle_pandas_practice.ipynb\" target=\"_parent\"><img src=\"https://colab.research.google.com/assets/colab-badge.svg\" alt=\"Open In Colab\"/></a>"
      ]
    },
    {
      "cell_type": "code",
      "source": [
        "#import csv and turn into dataframe\n",
        "\n",
        "import pandas as pd\n",
        "import numpy as np\n",
        "import matplotlib.pyplot as plt\n",
        "\n",
        "url = 'https://raw.githubusercontent.com/SStraughn1995/PythonCode/main/Sleep_health_and_lifestyle_dataset.csv'\n",
        "\n",
        "lifestyle=pd.read_csv(url)\n",
        "print(lifestyle)\n",
        "\n"
      ],
      "metadata": {
        "colab": {
          "base_uri": "https://localhost:8080/"
        },
        "id": "NtUpfvQMyy3W",
        "outputId": "d86ebf04-0898-4ffc-eea0-5ea3a5227a64"
      },
      "execution_count": 2,
      "outputs": [
        {
          "output_type": "stream",
          "name": "stdout",
          "text": [
            "     Person ID  Gender  Age            Occupation  Sleep Duration  \\\n",
            "0            1    Male   27     Software Engineer             6.1   \n",
            "1            2    Male   28                Doctor             6.2   \n",
            "2            3    Male   28                Doctor             6.2   \n",
            "3            4    Male   28  Sales Representative             5.9   \n",
            "4            5    Male   28  Sales Representative             5.9   \n",
            "..         ...     ...  ...                   ...             ...   \n",
            "369        370  Female   59                 Nurse             8.1   \n",
            "370        371  Female   59                 Nurse             8.0   \n",
            "371        372  Female   59                 Nurse             8.1   \n",
            "372        373  Female   59                 Nurse             8.1   \n",
            "373        374  Female   59                 Nurse             8.1   \n",
            "\n",
            "     Quality of Sleep  Physical Activity Level  Stress Level BMI Category  \\\n",
            "0                   6                       42             6   Overweight   \n",
            "1                   6                       60             8       Normal   \n",
            "2                   6                       60             8       Normal   \n",
            "3                   4                       30             8        Obese   \n",
            "4                   4                       30             8        Obese   \n",
            "..                ...                      ...           ...          ...   \n",
            "369                 9                       75             3   Overweight   \n",
            "370                 9                       75             3   Overweight   \n",
            "371                 9                       75             3   Overweight   \n",
            "372                 9                       75             3   Overweight   \n",
            "373                 9                       75             3   Overweight   \n",
            "\n",
            "    Blood Pressure  Heart Rate  Daily Steps Sleep Disorder  \n",
            "0           126/83          77         4200           None  \n",
            "1           125/80          75        10000           None  \n",
            "2           125/80          75        10000           None  \n",
            "3           140/90          85         3000    Sleep Apnea  \n",
            "4           140/90          85         3000    Sleep Apnea  \n",
            "..             ...         ...          ...            ...  \n",
            "369         140/95          68         7000    Sleep Apnea  \n",
            "370         140/95          68         7000    Sleep Apnea  \n",
            "371         140/95          68         7000    Sleep Apnea  \n",
            "372         140/95          68         7000    Sleep Apnea  \n",
            "373         140/95          68         7000    Sleep Apnea  \n",
            "\n",
            "[374 rows x 13 columns]\n"
          ]
        }
      ]
    },
    {
      "cell_type": "code",
      "source": [
        "#print subset of df where heart rate is over 75\n",
        "hr_over75 = lifestyle['Heart Rate']>75\n",
        "print(lifestyle[hr_over75])"
      ],
      "metadata": {
        "id": "SIHtlsVMKmbZ",
        "colab": {
          "base_uri": "https://localhost:8080/"
        },
        "outputId": "890d4feb-0517-4ffb-e914-bda36a689bd7"
      },
      "execution_count": 3,
      "outputs": [
        {
          "output_type": "stream",
          "name": "stdout",
          "text": [
            "     Person ID  Gender  Age            Occupation  Sleep Duration  \\\n",
            "0            1    Male   27     Software Engineer             6.1   \n",
            "3            4    Male   28  Sales Representative             5.9   \n",
            "4            5    Male   28  Sales Representative             5.9   \n",
            "5            6    Male   28     Software Engineer             5.9   \n",
            "6            7    Male   29               Teacher             6.3   \n",
            "16          17  Female   29                 Nurse             6.5   \n",
            "18          19  Female   29                 Nurse             6.5   \n",
            "30          31  Female   30                 Nurse             6.4   \n",
            "31          32  Female   30                 Nurse             6.4   \n",
            "68          69  Female   33             Scientist             6.2   \n",
            "69          70  Female   33             Scientist             6.2   \n",
            "80          81  Female   34             Scientist             5.8   \n",
            "81          82  Female   34             Scientist             5.8   \n",
            "93          94    Male   35                Lawyer             7.4   \n",
            "106        107  Female   37                 Nurse             6.1   \n",
            "145        146  Female   38                Lawyer             7.4   \n",
            "147        148    Male   39              Engineer             6.5   \n",
            "184        185  Female   42               Teacher             6.8   \n",
            "185        186  Female   42               Teacher             6.8   \n",
            "247        248    Male   44              Engineer             6.8   \n",
            "264        265    Male   48                Doctor             7.3   \n",
            "266        267    Male   48                Doctor             7.3   \n",
            "276        277    Male   49                Doctor             8.1   \n",
            "277        278    Male   49                Doctor             8.1   \n",
            "\n",
            "     Quality of Sleep  Physical Activity Level  Stress Level   BMI Category  \\\n",
            "0                   6                       42             6     Overweight   \n",
            "3                   4                       30             8          Obese   \n",
            "4                   4                       30             8          Obese   \n",
            "5                   4                       30             8          Obese   \n",
            "6                   6                       40             7          Obese   \n",
            "16                  5                       40             7  Normal Weight   \n",
            "18                  5                       40             7  Normal Weight   \n",
            "30                  5                       35             7  Normal Weight   \n",
            "31                  5                       35             7  Normal Weight   \n",
            "68                  6                       50             6     Overweight   \n",
            "69                  6                       50             6     Overweight   \n",
            "80                  4                       32             8     Overweight   \n",
            "81                  4                       32             8     Overweight   \n",
            "93                  7                       60             5          Obese   \n",
            "106                 6                       42             6     Overweight   \n",
            "145                 7                       60             5          Obese   \n",
            "147                 5                       40             7     Overweight   \n",
            "184                 6                       45             7     Overweight   \n",
            "185                 6                       45             7     Overweight   \n",
            "247                 7                       45             7     Overweight   \n",
            "264                 7                       65             5          Obese   \n",
            "266                 7                       65             5          Obese   \n",
            "276                 9                       85             3          Obese   \n",
            "277                 9                       85             3          Obese   \n",
            "\n",
            "    Blood Pressure  Heart Rate  Daily Steps Sleep Disorder  \n",
            "0           126/83          77         4200           None  \n",
            "3           140/90          85         3000    Sleep Apnea  \n",
            "4           140/90          85         3000    Sleep Apnea  \n",
            "5           140/90          85         3000       Insomnia  \n",
            "6           140/90          82         3500       Insomnia  \n",
            "16          132/87          80         4000    Sleep Apnea  \n",
            "18          132/87          80         4000       Insomnia  \n",
            "30          130/86          78         4100    Sleep Apnea  \n",
            "31          130/86          78         4100       Insomnia  \n",
            "68          128/85          76         5500           None  \n",
            "69          128/85          76         5500           None  \n",
            "80          131/86          81         5200    Sleep Apnea  \n",
            "81          131/86          81         5200    Sleep Apnea  \n",
            "93          135/88          84         3300    Sleep Apnea  \n",
            "106         126/83          77         4200           None  \n",
            "145         135/88          84         3300    Sleep Apnea  \n",
            "147         132/87          80         4000       Insomnia  \n",
            "184         130/85          78         5000    Sleep Apnea  \n",
            "185         130/85          78         5000    Sleep Apnea  \n",
            "247         130/85          78         5000       Insomnia  \n",
            "264         142/92          83         3500       Insomnia  \n",
            "266         142/92          83         3500       Insomnia  \n",
            "276         139/91          86         3700    Sleep Apnea  \n",
            "277         139/91          86         3700    Sleep Apnea  \n"
          ]
        }
      ]
    },
    {
      "cell_type": "code",
      "source": [
        "#print out patiend id, gender, and age based on BMI category\n",
        "\n",
        "normal = lifestyle['BMI Category']=='Normal Weight'\n",
        "overweight = lifestyle['BMI Category']=='Overweight'\n",
        "obese = lifestyle['BMI Category']=='Obese'\n",
        "\n",
        "filtered_data=lifestyle[lifestyle['BMI Category']=='Normal Weight']\n",
        "\n",
        "selected_columns=['Person ID','Gender','Age','BMI Category']\n",
        "filtered_data=filtered_data[selected_columns]\n",
        "print(filtered_data)\n",
        "\n",
        "\n",
        "#print out average age\n",
        "age=lifestyle.loc[:,'Age']\n",
        "avg_age=age.mean()\n",
        "print(avg_age)\n",
        "\n",
        "\n",
        "\n"
      ],
      "metadata": {
        "colab": {
          "base_uri": "https://localhost:8080/"
        },
        "id": "LRag8XMPvoJ6",
        "outputId": "0465d97c-4604-461a-ce64-44318ddf62aa"
      },
      "execution_count": 14,
      "outputs": [
        {
          "output_type": "stream",
          "name": "stdout",
          "text": [
            "     Person ID  Gender  Age   BMI Category\n",
            "16          17  Female   29  Normal Weight\n",
            "18          19  Female   29  Normal Weight\n",
            "30          31  Female   30  Normal Weight\n",
            "31          32  Female   30  Normal Weight\n",
            "32          33  Female   31  Normal Weight\n",
            "66          67    Male   32  Normal Weight\n",
            "84          85    Male   35  Normal Weight\n",
            "92          93    Male   35  Normal Weight\n",
            "107        108    Male   37  Normal Weight\n",
            "108        109    Male   37  Normal Weight\n",
            "125        126  Female   37  Normal Weight\n",
            "148        149  Female   39  Normal Weight\n",
            "149        150  Female   39  Normal Weight\n",
            "150        151  Female   39  Normal Weight\n",
            "161        162  Female   40  Normal Weight\n",
            "162        163  Female   40  Normal Weight\n",
            "166        167    Male   41  Normal Weight\n",
            "203        204    Male   43  Normal Weight\n",
            "302        303  Female   51  Normal Weight\n",
            "341        342  Female   56  Normal Weight\n",
            "342        343  Female   56  Normal Weight\n",
            "42.18449197860963\n"
          ]
        }
      ]
    },
    {
      "cell_type": "code",
      "source": [
        "#find number of females and males that are normal weight\n",
        "norm_fem=filtered_data['Gender'].value_counts()['Female']\n",
        "norm_male=filtered_data['Gender'].value_counts()['Male']\n",
        "print(\"There are \"+str(norm_fem)+\" females that have a normal weight BMI\")\n",
        "print(\"There are \"+str(norm_male)+\" males that have a normal weight BMI\")"
      ],
      "metadata": {
        "id": "MWRnUthbwNt3",
        "colab": {
          "base_uri": "https://localhost:8080/"
        },
        "outputId": "08d0e589-9668-46a2-a5ab-d8eebdadea5b"
      },
      "execution_count": 21,
      "outputs": [
        {
          "output_type": "stream",
          "name": "stdout",
          "text": [
            "There are 14 females that have a normal weight BMI\n",
            "There are 7 males that have a normal weight BMI\n"
          ]
        }
      ]
    },
    {
      "cell_type": "code",
      "source": [],
      "metadata": {
        "id": "_gJMBT0jruGl"
      },
      "execution_count": null,
      "outputs": []
    }
  ]
}